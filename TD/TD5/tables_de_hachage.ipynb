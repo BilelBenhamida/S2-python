{
 "cells": [
  {
   "cell_type": "markdown",
   "metadata": {
    "deletable": false,
    "editable": false,
    "run_control": {
     "frozen": true
    }
   },
   "source": [
    "# TD : Tables de hachage"
   ]
  },
  {
   "cell_type": "markdown",
   "metadata": {
    "deletable": false,
    "editable": false,
    "run_control": {
     "frozen": true
    }
   },
   "source": [
    "## Exercice 1 : Opérations de base dans une 1ère table de hachage "
   ]
  },
  {
   "cell_type": "markdown",
   "metadata": {
    "deletable": false,
    "editable": false,
    "run_control": {
     "frozen": true
    }
   },
   "source": [
    "On utilise comme table de hachage un tableau de 10 cases où la case d'indice `i` contient l'ensemble des nombres terminant par le chiffre `i`."
   ]
  },
  {
   "cell_type": "markdown",
   "metadata": {
    "deletable": false,
    "editable": false,
    "run_control": {
     "frozen": true
    }
   },
   "source": [
    "### Question 1  :  La recherche\n",
    "\n",
    "- Définir une fonction `rechercher` qui prend en paramètre une table de hachage et un entier et renvoie `True` si l'entier est dans la table, et `False` sinon. "
   ]
  },
  {
   "cell_type": "code",
   "execution_count": 1,
   "metadata": {
    "tags": [
     "answer"
    ]
   },
   "outputs": [],
   "source": [
    "def rechercher(table, entier):\n",
    "    indice = entier % 10\n",
    "    return entier in table[indice]"
   ]
  },
  {
   "cell_type": "markdown",
   "metadata": {
    "deletable": false,
    "editable": false,
    "run_control": {
     "frozen": true
    }
   },
   "source": [
    "### Question 2 : L'ajout  \n",
    "\n",
    "- Définir une fonction `ajouter` qui prend en paramètre une table de hachage et un entier et ajoute cet entier dans la table s'il n'existe pas. "
   ]
  },
  {
   "cell_type": "code",
   "execution_count": 2,
   "metadata": {
    "tags": [
     "answer"
    ]
   },
   "outputs": [],
   "source": [
    "def ajouter(table, entier):\n",
    "    indice = entier % 10\n",
    "    if entier not in table[indice]:\n",
    "        table[indice].add(entier)"
   ]
  },
  {
   "cell_type": "markdown",
   "metadata": {
    "deletable": false,
    "editable": false,
    "run_control": {
     "frozen": true
    }
   },
   "source": [
    "### Question  3  : La suppression\n",
    "\n",
    "- Définir une fonction `supprimer` qui prend en paramètre une table de hachage et un entier et supprime cet entier dans la table s'il est présent.\n",
    "\n",
    "**Remarque :** On utilisera la fonction `L.pop()` qui supprime le dernier élément de la table `L`."
   ]
  },
  {
   "cell_type": "code",
   "execution_count": 3,
   "metadata": {
    "tags": [
     "answer"
    ]
   },
   "outputs": [],
   "source": [
    "def supprimer(table, entier):\n",
    "    indice = entier % 10\n",
    "    if entier in table[indice]:\n",
    "        table[indice].remove(entier)"
   ]
  },
  {
   "cell_type": "markdown",
   "metadata": {
    "deletable": false,
    "editable": false,
    "run_control": {
     "frozen": true
    }
   },
   "source": [
    "## Exercice 2 : Opérations de base dans une 2ème table de hachage "
   ]
  },
  {
   "cell_type": "markdown",
   "metadata": {
    "deletable": false,
    "editable": false,
    "run_control": {
     "frozen": true
    }
   },
   "source": [
    "### Question 1 : La recherche \n",
    "\n",
    "- Définir une fonction `rechercher2` qui prend en paramètre une table de hachage et une valeur et renvoie `True` si la valeur est dans la table, et `False` sinon. On ne fait pas d'hypothèse sur le nombre de cases de la table. La fonction de hachage est celle définie en cours.\n",
    "\n",
    "**Remarque :** Si la valeur que l'on veut stocker dans la table est entière, il suffit de transformer l'entier en une chaîne de caractères avec `str(entier)`."
   ]
  },
  {
   "cell_type": "code",
   "execution_count": 4,
   "metadata": {
    "tags": [
     "removeFromLatex"
    ]
   },
   "outputs": [],
   "source": [
    "def hachage(chaine):\n",
    "    nombre = 0\n",
    "    i = 0\n",
    "    while i < len(chaine):\n",
    "        nombre += ord(chaine[i])\n",
    "        i += 1\n",
    "    return nombre\n",
    "\n",
    "def rechercher2(table, valeur):\n",
    "    cle = hachage(str(valeur)) % len(table)\n",
    "    return valeur in table[cle]"
   ]
  },
  {
   "cell_type": "markdown",
   "metadata": {
    "deletable": false,
    "editable": false,
    "run_control": {
     "frozen": true
    }
   },
   "source": [
    "### Question 2 : L'ajout \n",
    "\n",
    "- Définir une fonction `ajouter2` qui prend en paramètre une table de hachage et une valeur et ajoute cette valeur dans la table si elle n'existe pas.  On ne fait pas d'hypothèse sur le nombre de cases de la table. La fonction de hachage est celle définie en cours."
   ]
  },
  {
   "cell_type": "code",
   "execution_count": 5,
   "metadata": {
    "tags": [
     "answer"
    ]
   },
   "outputs": [],
   "source": [
    "def ajouter2(table, valeur):\n",
    "    cle = hachage(str(valeur)) % len(table)\n",
    "    if valeur not in table[cle]:\n",
    "        table[cle].append(valeur)"
   ]
  },
  {
   "cell_type": "markdown",
   "metadata": {
    "deletable": false,
    "editable": false,
    "run_control": {
     "frozen": true
    }
   },
   "source": [
    "### Question 3 : La suppression  \n",
    "- Définir une fonction `supprimer2` qui prend en paramètre une table de hachage et un entier et supprime cet entier dans la table s'il existe. \n",
    "\n",
    "On ne fait pas d'hypothèse sur le nombre de cases de la table. La fonction de hachage est celle définie en cours.\n",
    "\n",
    "**Remarque :** on utilisera la fonction `L.pop()` qui supprime le dernier élément de la table `L`."
   ]
  },
  {
   "cell_type": "code",
   "execution_count": 6,
   "metadata": {
    "tags": [
     "answer"
    ]
   },
   "outputs": [],
   "source": [
    "def supprimer2(table, entier):\n",
    "    cle = hachage(str(entier)) % len(table)\n",
    "    if entier in table[cle]:\n",
    "        table[cle].remove(entier)"
   ]
  },
  {
   "cell_type": "markdown",
   "metadata": {
    "deletable": false,
    "editable": false,
    "run_control": {
     "frozen": true
    }
   },
   "source": [
    "## Exercice 3 : Hachage fermé (ou à adressage ouvert)\n",
    "\n",
    "\n",
    "Dans cet exercice, on suppose que l'on stocke dans les cases de la table de hachage des valeurs et non des tableaux de valeurs (on peut donc mettre au plus une valeur dans chaque case de la table). Il faut alors une méthode pour gérer les *collisions* (cas où plusieurs éléments à stocker ont la même valeur de hachage).\n",
    "\n",
    "Lorque l'on essaie d'insérer un nouvel est élément et que la case où on veut le mettre est déjà occupée, il faut essayer de le placer dans une autre case, et ainsi de suite jusqu'à en trouver une libre. On dit alors que l'on *sonde* la table pour trouver une case libre. Dans ces conditions, la fonction de hachage prend un argument supplémentaire qui compte le nombre de tentatives infructueuses pour trouver une case libre.\n",
    "\n",
    "### Question 1 : Sondage linéaire \n",
    "\n",
    "Dans le cas du *sondage linéaire*, on avance dans le tableau d'un nombre fixe de cases (souvent une case) à chaque fois jusqu'à trouver une case vide. Si le pas est un, la fonction de hachage s'écrit $h(k,i)= h_1(k)+i$ où $h_1$ est un fonction de hachage simple et $i$ est le nombre de tentatives pour trouver une case vide.\n",
    "\n",
    "- Éxécuter à la main l'algorithme d'insertion dans une table de taille `m=9` des  valeurs 5, 28, 19, 15, 20, 33, 12, 17 en utilsant la fonction $h_1(k)=k \\mod 9$.\n",
    "- Écrire les fonctions permettant d'insérer et de rechercher une valeur dans une table de hachage de taille `m` avec la fonction de hachage à sondage linéaire qui vient d'être décrite. \n",
    "- Que se passe-t-il si l'on supprime des valeurs dans la table ? Comment peut-on résoudre ce problème ?"
   ]
  },
  {
   "cell_type": "markdown",
   "metadata": {
    "deletable": false,
    "run_control": {
     "frozen": false
    },
    "tags": [
     "answer"
    ]
   },
   "source": [
    "**Réponse :** \n",
    "\n",
    "`Indice` : 0  1  2  3  4  5  6  7  8\n",
    "              \n",
    " `Valeur` : . 28 19 20 12  5 15 33 17\n",
    "\n",
    "\n",
    "\n"
   ]
  },
  {
   "cell_type": "code",
   "execution_count": 7,
   "metadata": {
    "tags": [
     "answer"
    ]
   },
   "outputs": [],
   "source": [
    "def h1(k, m):\n",
    "    return k % m\n",
    "\n",
    "def inserer(table, valeur):\n",
    "    m = len(table)\n",
    "    for i in range(m):\n",
    "        index = (h1(valeur, m) + i) % m\n",
    "        if table[index] is None:\n",
    "            table[index] = valeur\n",
    "            return True\n",
    "    return False\n",
    "\n",
    "def rechercher(table, valeur):\n",
    "    m = len(table)\n",
    "    for i in range(m):\n",
    "        index = (h1(valeur, m) + i) % m\n",
    "        if table[index] is None:\n",
    "            return False\n",
    "        if table[index] == valeur:\n",
    "            return True\n",
    "    return False"
   ]
  },
  {
   "cell_type": "markdown",
   "metadata": {
    "deletable": false,
    "run_control": {
     "frozen": false
    },
    "tags": [
     "answer"
    ]
   },
   "source": [
    "**Réponse :** Si on remplace une valeur par `None`, cela casse la chaîne de sondage, et une recherche peut s’arrêter trop tôt, pensant que la valeur n’est pas là.\n",
    "\n",
    "\n"
   ]
  },
  {
   "cell_type": "markdown",
   "metadata": {
    "deletable": false,
    "editable": false,
    "run_control": {
     "frozen": true
    }
   },
   "source": [
    "### Question 2 : Double hachage\n",
    "\n",
    "Le sondage linéaire présente un gros inconvénient. Même si la fonction de hachage répartit les clés uniformément dans la table, la résolution des collisions a tendance à former des \"paquets\" de valeurs ce qui conduit à rapidement augmenter le nombre de recherches infructueuses.\n",
    "\n",
    "Une solution pour résoudre le problème des \"paquets\" est de modifier la méthode de sondage pour que les cases sondées soient éloignées de manière variable. Le double hachage est l'une des meilleurs méthodes connues pour cela. Il utilise une fonction de hachage de la forme $h(k,i)=h_1(k)+ih_2(k) \\mod m$ où $h_1$  et $h_2$ sont des  fonctions de hachage auxiliaires simples.\n",
    "\n",
    "- Insérer les valeurs de la Question 1 dans une table de taille $m=13$ en utilisant un double hachage où $h_1(k)= k \\mod 13$ et $h_2(k)=1+ (k \\mod 12).$ \n",
    "- Que se passe-t-il si $h_2(k)$ et $m$ ne sont pas premiers entre eux ? En quoi est-ce gênant ?  Comment y remédier ? "
   ]
  },
  {
   "cell_type": "markdown",
   "metadata": {
    "deletable": false,
    "run_control": {
     "frozen": false
    },
    "tags": [
     "answer"
    ]
   },
   "source": [
    "**Réponse :** \n",
    "\n",
    "`Indice` : 0   1   2   3   4   5   6   7   8   9   10  11  12\n",
    "\n",
    "`Valeur` : .   .  28  17  33   5  19  20  .   .   15   .  12\n",
    "\n",
    "\n",
    "\n",
    "Si `h₂(k)` et `m` ne sont pas premiers entre eux, la fonction de hachage ne peut pas explorer toutes les cases de la table : certaines positions deviennent inaccessibles. Résultat : on peut croire que la table est pleine alors qu’il reste de la place → échec de l'insertion."
   ]
  }
 ],
 "metadata": {
  "celltoolbar": "Éditer les Méta-Données",
  "kernelspec": {
   "display_name": "Python 3",
   "language": "python",
   "name": "python3"
  },
  "language_info": {
   "codemirror_mode": {
    "name": "ipython",
    "version": 3
   },
   "file_extension": ".py",
   "mimetype": "text/x-python",
   "name": "python",
   "nbconvert_exporter": "python",
   "pygments_lexer": "ipython3",
   "version": "3.12.9"
  },
  "toc": {
   "base_numbering": 1,
   "nav_menu": {},
   "number_sections": false,
   "sideBar": false,
   "skip_h1_title": false,
   "title_cell": "Table of Contents",
   "title_sidebar": "Contents",
   "toc_cell": false,
   "toc_position": {},
   "toc_section_display": false,
   "toc_window_display": false
  }
 },
 "nbformat": 4,
 "nbformat_minor": 5
}
